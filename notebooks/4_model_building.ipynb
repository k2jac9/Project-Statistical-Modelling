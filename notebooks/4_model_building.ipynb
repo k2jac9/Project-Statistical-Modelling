{
 "cells": [
  {
   "cell_type": "markdown",
   "metadata": {},
   "source": [
    "Build a regression model.\n"
   ]
  },
  {
   "cell_type": "markdown",
   "metadata": {},
   "source": [
    "#### Let's take a look at the relationship between features with a heatmap\n"
   ]
  },
  {
   "cell_type": "code",
   "execution_count": 1,
   "metadata": {},
   "outputs": [],
   "source": [
    "# Required libraries\n",
    "import pandas as pd\n",
    "import numpy as np\n",
    "import seaborn as sns\n",
    "import statsmodels.api as sm\n",
    "import matplotlib.pyplot as plt\n",
    "from sklearn.model_selection import train_test_split\n",
    "from sklearn.linear_model import LinearRegression\n",
    "from sklearn.metrics import mean_squared_error, r2_score\n",
    "from sklearn.ensemble import RandomForestRegressor\n",
    "from sklearn.linear_model import LogisticRegression\n",
    "from sklearn.model_selection import train_test_split\n"
   ]
  },
  {
   "cell_type": "code",
   "execution_count": 2,
   "metadata": {},
   "outputs": [],
   "source": [
    "# Define the path to the CSV file\n",
    "csv_file_path = '../data/joined.csv'\n",
    "\n",
    "# Load the CSV data into a pandas DataFrame\n",
    "df = pd.read_csv(csv_file_path)\n",
    "\n",
    "# Creating heatmap data\n",
    "df_heatmap = df[['usage', 'total_bikes', 'poi_distance']].copy()\n"
   ]
  },
  {
   "cell_type": "code",
   "execution_count": 3,
   "metadata": {},
   "outputs": [],
   "source": [
    "# Define the features (X) and target (y)\n",
    "X = df_heatmap[['total_bikes', 'poi_distance']]\n",
    "y = df_heatmap['usage']\n",
    "\n",
    "# Split the data into training and testing sets (e.g., 80% training, 20% testing)\n",
    "X_train, X_test, y_train, y_test = train_test_split(\n",
    "    X, y, test_size=0.2, random_state=42)\n"
   ]
  },
  {
   "cell_type": "code",
   "execution_count": 4,
   "metadata": {},
   "outputs": [],
   "source": [
    "# Create a Linear Regression model\n",
    "model = LinearRegression()\n",
    "\n",
    "# Fit the model to the training data\n",
    "model.fit(X_train, y_train)\n",
    "\n",
    "# Make predictions on the test data\n",
    "y_pred = model.predict(X_test)\n"
   ]
  },
  {
   "cell_type": "code",
   "execution_count": 5,
   "metadata": {},
   "outputs": [
    {
     "name": "stdout",
     "output_type": "stream",
     "text": [
      "Mean Squared Error: 0.10430008876730193\n",
      "R-squared: -0.19739739051447214\n"
     ]
    },
    {
     "data": {
      "image/png": "[encoded data removed]",
      "text/plain": [
       "<Figure size 640x480 with 1 Axes>"
      ]
     },
     "metadata": {},
     "output_type": "display_data"
    }
   ],
   "source": [
    "# Calculate mean squared error and R-squared (coefficient of determination)\n",
    "mse = mean_squared_error(y_test, y_pred)\n",
    "r2 = r2_score(y_test, y_pred)\n",
    "\n",
    "print(\"Mean Squared Error:\", mse)\n",
    "print(\"R-squared:\", r2)\n",
    "\n",
    "# Visualize the regression line\n",
    "plt.scatter(X_test['total_bikes'], y_test, color='blue', label='Actual')\n",
    "plt.scatter(X_test['total_bikes'], y_pred, color='red', label='Predicted')\n",
    "plt.xlabel('Total Bikes')\n",
    "plt.ylabel('Usage')\n",
    "plt.legend()\n",
    "plt.show()\n"
   ]
  },
  {
   "cell_type": "markdown",
   "metadata": {},
   "source": [
    "Based on the results:\n",
    "\n",
    "The Mean Squared Error (MSE) is about 0.0.1043\n",
    ". MSE is a way to measure how close the predicted values are to the actual values. In simpler terms, a lower MSE is better. In this case, the model has an MSE of 0.1043; which would be considered good.\n",
    "\n",
    "However, The R-squared (R2) value is approximately -0.1973 refering to a bad fit for the data.\n"
   ]
  },
  {
   "cell_type": "code",
   "execution_count": 6,
   "metadata": {},
   "outputs": [
    {
     "name": "stdout",
     "output_type": "stream",
     "text": [
      "Random Forest Mean Squared Error: 0.0064486311962300025\n",
      "Random Forest R-squared: 0.9259677124150566\n"
     ]
    }
   ],
   "source": [
    "# Create a Random Forest Regression model\n",
    "rf_model = RandomForestRegressor(n_estimators=100, random_state=42)\n",
    "\n",
    "# Fit the model to the training data\n",
    "rf_model.fit(X_train, y_train)\n",
    "\n",
    "# Make predictions on the test data\n",
    "y_pred_rf = rf_model.predict(X_test)\n",
    "\n",
    "# Evaluate the model using MSE and R-squared\n",
    "mse_rf = mean_squared_error(y_test, y_pred_rf)\n",
    "r2_rf = r2_score(y_test, y_pred_rf)\n",
    "\n",
    "print(\"Random Forest Mean Squared Error:\", mse_rf)\n",
    "print(\"Random Forest R-squared:\", r2_rf)\n"
   ]
  },
  {
   "cell_type": "markdown",
   "metadata": {},
   "source": [
    "The results for the Random Forest Regression model are as follows:\n",
    "\n",
    "Mean Squared Error (MSE): Approximately 0.0064\n",
    "R-squared (R2): Approximately - 0.925\n",
    "\n",
    "This value is significantly lower than the MSE from the previous Linear Regression model. A lower MSE indicates that the Random Forest model's predictions are, on average, closer to the actual values. The MSE of approximately 0.0064 suggests that this model is a good fit for the data.\n",
    "\n",
    "The R-squared value is a measure of how well the model's predictions match the actual data. An R-squared of 0.9259 (or about 92.59%) is quite high, which means that approximately 92.59% of the variance in the dependent variable (usage) is predictable from the independent variables (total_bikes, poi_distance) in the model.\n",
    "\n",
    "This is a significant improvement over the Linear Regression model, which had a negative R-squared value. It indicates that the Random Forest model captures the relationships and patterns in the data much more effectively.\n",
    "In summary, the Random Forest Regression model shows both a low Mean Squared Error and a high R-squared value, indicating that it is a very effective model for predicting the target variable with the given features. It seems to capture the underlying relationships in the data much better than the Linear Regression model previously used.\n"
   ]
  },
  {
   "cell_type": "code",
   "execution_count": 7,
   "metadata": {},
   "outputs": [],
   "source": [
    "# Load data\n",
    "df_joined = pd.read_csv('../data/joined.csv', index_col=None)\n",
    "\n",
    "# Creating heatmap data\n",
    "df_heatmap = df_joined[['usage', 'total_bikes', 'poi_distance']].copy()\n"
   ]
  },
  {
   "cell_type": "code",
   "execution_count": 8,
   "metadata": {},
   "outputs": [],
   "source": [
    "# Calculate 'usage_percentage'\n",
    "df['usage_percentage'] = df['usage'] / df['total_bikes']\n",
    "\n",
    "# Define thresholds and labels for classes\n",
    "thresholds = [0, 0.2, 0.5, 1.0]\n",
    "labels = ['Low Usage', 'Moderate Usage', 'High Usage']\n",
    "\n",
    "# Create the new categorical target variable 'usage_category'\n",
    "df['usage_category'] = pd.cut(\n",
    "    df['usage_percentage'], bins=thresholds, labels=labels)\n",
    "\n",
    "# Drop 'usage_percentage' if no longer need it\n",
    "df.drop('usage_percentage', axis=1, inplace=True)\n"
   ]
  },
  {
   "cell_type": "code",
   "execution_count": 9,
   "metadata": {},
   "outputs": [],
   "source": [
    "X = df[['total_bikes', 'poi_distance']]\n",
    "y = df['usage_category']\n"
   ]
  },
  {
   "cell_type": "code",
   "execution_count": 10,
   "metadata": {},
   "outputs": [],
   "source": [
    "from sklearn.model_selection import train_test_split\n",
    "\n",
    "X_train, X_test, y_train, y_test = train_test_split(\n",
    "    X, y, test_size=0.2, random_state=42)\n"
   ]
  },
  {
   "cell_type": "code",
   "execution_count": 11,
   "metadata": {},
   "outputs": [],
   "source": [
    "classifier = LogisticRegression()\n"
   ]
  },
  {
   "cell_type": "code",
   "execution_count": 12,
   "metadata": {},
   "outputs": [
    {
     "name": "stdout",
     "output_type": "stream",
     "text": [
      "station           0\n",
      "usage             0\n",
      "total_bikes       0\n",
      "poi_name          0\n",
      "poi_distance      0\n",
      "poi_address       0\n",
      "usage_category    0\n",
      "dtype: int64\n"
     ]
    }
   ],
   "source": [
    "missing_values = df.isna().sum()\n",
    "print(missing_values)\n"
   ]
  },
  {
   "cell_type": "code",
   "execution_count": 13,
   "metadata": {},
   "outputs": [],
   "source": [
    "df.dropna(inplace=True)\n"
   ]
  },
  {
   "cell_type": "code",
   "execution_count": 14,
   "metadata": {},
   "outputs": [],
   "source": [
    "# Calculate 'usage_percentage'\n",
    "df['usage_percentage'] = df['usage'] / df['total_bikes']\n"
   ]
  },
  {
   "cell_type": "code",
   "execution_count": 15,
   "metadata": {},
   "outputs": [],
   "source": [
    "# Define thresholds and labels for classes\n",
    "thresholds = [0, 0.3, 0.6, 1.0]  # Adjust the thresholds as needed\n",
    "labels = ['Low Usage', 'Moderate Usage', 'High Usage']\n"
   ]
  },
  {
   "cell_type": "code",
   "execution_count": 16,
   "metadata": {},
   "outputs": [],
   "source": [
    "# Create the new categorical target variable 'usage_category'\n",
    "df['usage_category'] = pd.cut(\n",
    "    df['usage_percentage'], bins=thresholds, labels=labels)\n"
   ]
  },
  {
   "cell_type": "code",
   "execution_count": 17,
   "metadata": {},
   "outputs": [],
   "source": [
    "# Define thresholds and labels for classes\n",
    "thresholds = [0, 0.3, 0.6, 1.0]  # Adjust the thresholds as needed\n",
    "labels = ['Low Usage', 'Moderate Usage', 'High Usage']\n",
    "\n",
    "# Create the new categorical target variable 'usage_category'\n",
    "df['usage_category'] = pd.cut(\n",
    "    df['usage_percentage'], bins=thresholds, labels=labels)\n"
   ]
  },
  {
   "cell_type": "code",
   "execution_count": 18,
   "metadata": {},
   "outputs": [],
   "source": [
    "X = df[['total_bikes', 'poi_distance']]\n",
    "y = df['usage_category']\n"
   ]
  },
  {
   "cell_type": "code",
   "execution_count": 19,
   "metadata": {},
   "outputs": [],
   "source": [
    "X_train, X_test, y_train, y_test = train_test_split(\n",
    "    X, y, test_size=0.2, random_state=42)\n"
   ]
  },
  {
   "cell_type": "code",
   "execution_count": 20,
   "metadata": {},
   "outputs": [],
   "source": [
    "classifier = LogisticRegression()\n"
   ]
  },
  {
   "cell_type": "code",
   "execution_count": 21,
   "metadata": {},
   "outputs": [
    {
     "name": "stdout",
     "output_type": "stream",
     "text": [
      "<class 'pandas.core.frame.DataFrame'>\n",
      "RangeIndex: 200 entries, 0 to 199\n",
      "Data columns (total 6 columns):\n",
      " #   Column        Non-Null Count  Dtype  \n",
      "---  ------        --------------  -----  \n",
      " 0   station       200 non-null    object \n",
      " 1   usage         200 non-null    float64\n",
      " 2   total_bikes   200 non-null    int64  \n",
      " 3   poi_name      200 non-null    object \n",
      " 4   poi_distance  200 non-null    float64\n",
      " 5   poi_address   200 non-null    object \n",
      "dtypes: float64(2), int64(1), object(3)\n",
      "memory usage: 9.5+ KB\n"
     ]
    }
   ],
   "source": [
    "df_joined.info()\n"
   ]
  },
  {
   "cell_type": "code",
   "execution_count": 22,
   "metadata": {},
   "outputs": [
    {
     "data": {
      "image/png": "[encoded data removed]",
      "text/plain": [
       "<Figure size 800x600 with 2 Axes>"
      ]
     },
     "metadata": {},
     "output_type": "display_data"
    }
   ],
   "source": [
    "# Create a heatmap using seaborn\n",
    "plt.figure(figsize=(8, 6))  # Set the figure size\n",
    "\n",
    "# Create the correlation matrix\n",
    "correlation_matrix = df_heatmap.corr()\n",
    "\n",
    "# Create the heatmap\n",
    "sns.heatmap(correlation_matrix, cmap=\"coolwarm\",\n",
    "            annot=True, fmt=\".2f\", linewidths=.5)\n",
    "\n",
    "# Add labels and title\n",
    "plt.xlabel(\"Columns\")\n",
    "plt.ylabel(\"Rows\")\n",
    "plt.title(\"Heatmap of DataFrame\")\n",
    "\n",
    "# Show the plot\n",
    "plt.show()\n"
   ]
  },
  {
   "cell_type": "code",
   "execution_count": 23,
   "metadata": {},
   "outputs": [],
   "source": [
    "X = df_joined[['usage', 'poi_distance']]\n",
    "y = df_joined['total_bikes']\n"
   ]
  },
  {
   "cell_type": "markdown",
   "metadata": {},
   "source": [
    "Provide model output and an interpretation of the results.\n"
   ]
  },
  {
   "cell_type": "code",
   "execution_count": 24,
   "metadata": {},
   "outputs": [
    {
     "name": "stdout",
     "output_type": "stream",
     "text": [
      "                            OLS Regression Results                            \n",
      "==============================================================================\n",
      "Dep. Variable:            total_bikes   R-squared:                       0.013\n",
      "Model:                            OLS   Adj. R-squared:                  0.003\n",
      "Method:                 Least Squares   F-statistic:                     1.260\n",
      "Date:                Fri, 05 Jan 2024   Prob (F-statistic):              0.286\n",
      "Time:                        01:34:11   Log-Likelihood:                -791.39\n",
      "No. Observations:                 200   AIC:                             1589.\n",
      "Df Residuals:                     197   BIC:                             1599.\n",
      "Df Model:                           2                                         \n",
      "Covariance Type:            nonrobust                                         \n",
      "================================================================================\n",
      "                   coef    std err          t      P>|t|      [0.025      0.975]\n",
      "--------------------------------------------------------------------------------\n",
      "const           34.7162      1.983     17.507      0.000      30.806      38.627\n",
      "usage            2.1381      3.007      0.711      0.478      -3.793       8.069\n",
      "poi_distance    -0.0053      0.003     -1.526      0.129      -0.012       0.002\n",
      "==============================================================================\n",
      "Omnibus:                       77.317   Durbin-Watson:                   0.099\n",
      "Prob(Omnibus):                  0.000   Jarque-Bera (JB):               13.157\n",
      "Skew:                           0.238   Prob(JB):                      0.00139\n",
      "Kurtosis:                       1.837   Cond. No.                     1.57e+03\n",
      "==============================================================================\n",
      "\n",
      "Notes:\n",
      "[1] Standard Errors assume that the covariance matrix of the errors is correctly specified.\n",
      "[2] The condition number is large, 1.57e+03. This might indicate that there are\n",
      "strong multicollinearity or other numerical problems.\n"
     ]
    }
   ],
   "source": [
    "# Assuming X and y are already defined\n",
    "X = sm.add_constant(X)  # Adding a constant term to the predictors\n",
    "est = sm.OLS(y, X).fit()  # Fitting an OLS model\n",
    "\n",
    "# Call summary on est\n",
    "print(est.summary())\n"
   ]
  },
  {
   "cell_type": "markdown",
   "metadata": {},
   "source": [
    "The model is trying to predict the number of total bikes.\n",
    "R-squared: 0.013. This value is very low, indicating that only 1.3% of the variance in total_bikes is explained by the model. This suggests the model is not very effective at predicting total_bikes.\n",
    "\n",
    "Coefficients:\n",
    "const: The constant (intercept) is 34.7162. This is the model's prediction for total_bikes when both usage and poi_distance are 0.\n",
    "usage: The coefficient is 2.1381, but its p-value is 0.478, which is not statistically significant.\n",
    "poi_distance: The coefficient is -0.0053, with a p-value of 0.129. It's closer to being significant, but still above the common alpha level of 0.05.\n",
    "\n",
    "In summary, this OLS regression model does not seem to be a good fit for predicting total_bikes based on usage and poi_distance. The low R-squared values, high p-values for the coefficients, and diagnostic tests suggest that the model may not be capturing the necessary predictive power from the features, and there could be issues with the data such as multicollinearity or non-normality of residuals.\n"
   ]
  },
  {
   "cell_type": "markdown",
   "metadata": {},
   "source": [
    "# Stretch\n"
   ]
  },
  {
   "cell_type": "markdown",
   "metadata": {},
   "source": [
    "How can you turn the regression model into a classification model?\n"
   ]
  },
  {
   "cell_type": "markdown",
   "metadata": {},
   "source": [
    "Having more time.\n",
    "\n",
    "To turn a regression model into a classification model, the nature of the prediction task changes. In regression, the goal is to predict a continuous numeric value, while in classification, the goal is to predict a categorical label or class.\n",
    "\n",
    "Identify Categories: Decide what categories or groups to predict. Transform the continuous numeric output from the regression into distinct categories. This might mean setting boundaries or defining groups based on the problem.\n",
    "\n",
    "Assign Labels: Give each data point a label based on its category. Each data point should have a category label assigned to it.\n",
    "\n",
    "Pick a Classification Method: Choose a suitable classification technique for the task. Common methods include Logistic Regression, Decision Trees, Random Forests, Support Vector Machines, and Neural Networks.\n"
   ]
  }
 ],
 "metadata": {
  "kernelspec": {
   "display_name": "Python 3 (ipykernel)",
   "language": "python",
   "name": "python3"
  },
  "language_info": {
   "codemirror_mode": {
    "name": "ipython",
    "version": 3
   },
   "file_extension": ".py",
   "mimetype": "text/x-python",
   "name": "python",
   "nbconvert_exporter": "python",
   "pygments_lexer": "ipython3",
   "version": "3.12.1"
  }
 },
 "nbformat": 4,
 "nbformat_minor": 4
}
